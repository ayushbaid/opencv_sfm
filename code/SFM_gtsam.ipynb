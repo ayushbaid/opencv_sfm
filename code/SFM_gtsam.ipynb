{
 "cells": [
  {
   "cell_type": "code",
   "execution_count": 1,
   "metadata": {},
   "outputs": [],
   "source": [
    "import gtsam\n",
    "import numpy as np\n",
    "from gtsam.gtsam import (Cal3_S2, DoglegOptimizer,\n",
    "                         GenericProjectionFactorCal3_S2, NonlinearFactorGraph,\n",
    "                         Point3, Pose3, Point2, PriorFactorPoint3, PriorFactorPose3,\n",
    "                         Rot3, SimpleCamera, Values)\n",
    "\n",
    "from utils import get_matches_and_e, load_image"
   ]
  },
  {
   "cell_type": "code",
   "execution_count": 2,
   "metadata": {},
   "outputs": [],
   "source": [
    "def symbol(name: str, index: int) -> int:\n",
    "    \"\"\" helper for creating a symbol without explicitly casting 'name' from str to int \"\"\"\n",
    "    return gtsam.symbol(ord(name), index)"
   ]
  },
  {
   "cell_type": "code",
   "execution_count": 3,
   "metadata": {},
   "outputs": [],
   "source": [
    "def get_camera_calibration(fx, fy, s, cx, cy):\n",
    "  return Cal3_S2(fx, fy, s, cx, cy)"
   ]
  },
  {
   "cell_type": "code",
   "execution_count": 4,
   "metadata": {},
   "outputs": [],
   "source": [
    "# Define the camera observation noise model\n",
    "measurement_noise = gtsam.noiseModel_Isotropic.Sigma(2, 1.0)  # one pixel in u and v"
   ]
  },
  {
   "cell_type": "code",
   "execution_count": 5,
   "metadata": {},
   "outputs": [
    {
     "name": "stdout",
     "output_type": "stream",
     "text": [
      "selected points with ratio:  68\n"
     ]
    }
   ],
   "source": [
    "img1 = load_image('img56.jpg', path='../data/lettuce_home/set6/')\n",
    "img2 = load_image('img58.jpg', path='../data/lettuce_home/set6/')\n",
    "points_1, points_2, e_estimate, r, t = get_matches_and_e(img1, img2)"
   ]
  },
  {
   "cell_type": "code",
   "execution_count": 6,
   "metadata": {},
   "outputs": [
    {
     "name": "stdout",
     "output_type": "stream",
     "text": [
      "[[ 0.02161564 -0.1086115  -0.1994536 ]\n",
      " [ 0.2627051  -0.05079752 -0.62249989]\n",
      " [ 0.36620042  0.59124258  0.07199701]]\n",
      "[array([[ 0.93237012, -0.26533176,  0.24553006],\n",
      "       [ 0.26541593,  0.96355595,  0.03338131],\n",
      "       [-0.24543907,  0.03404385,  0.96881406]]), array([[ 0.52519455, -0.72216304,  0.45016799],\n",
      "       [-0.70583895, -0.66517095, -0.24359595],\n",
      "       [ 0.47535466, -0.18981084, -0.85907496]])]\n",
      "[[ 0.05      ]\n",
      " [-0.01510818]\n",
      " [ 0.00788698]]\n"
     ]
    }
   ],
   "source": [
    "print(e_estimate)\n",
    "print(r)\n",
    "t = +(t/t[0])*0.05\n",
    "print(t)"
   ]
  },
  {
   "cell_type": "code",
   "execution_count": 7,
   "metadata": {},
   "outputs": [],
   "source": [
    "# Create a factor graph\n",
    "graph = NonlinearFactorGraph()\n",
    "K = get_camera_calibration(644, 644, 0, 213, 387)"
   ]
  },
  {
   "cell_type": "code",
   "execution_count": 8,
   "metadata": {},
   "outputs": [],
   "source": [
    "# add all the image points to the factor graph\n",
    "for (i, point) in enumerate(points_1):\n",
    "  # wrap the point in a measurement\n",
    "  #print('adding point for camera1')\n",
    "  factor = GenericProjectionFactorCal3_S2(\n",
    "            Point2(point), measurement_noise, symbol('x', 0), symbol('l', i), K)\n",
    "  graph.push_back(factor)\n",
    "  \n",
    "for (i, point) in enumerate(points_2):\n",
    "  #print('adding point for camera2')\n",
    "  factor = GenericProjectionFactorCal3_S2(\n",
    "            Point2(point), measurement_noise, symbol('x', 1), symbol('l', i), K)\n",
    "  graph.push_back(factor)"
   ]
  },
  {
   "cell_type": "code",
   "execution_count": 9,
   "metadata": {},
   "outputs": [],
   "source": [
    "# Add a prior on pose of camera 1.\n",
    "# 0.3 rad std on roll,pitch,yaw and 0.1m on x,y,z\n",
    "pose_noise = gtsam.noiseModel_Diagonal.Sigmas(np.array([0.3, 0.3, 0.3, 0.1, 0.1, 0.1]))\n",
    "factor = PriorFactorPose3(symbol('x', 0), Pose3(Rot3.Rodrigues(0, 0, 0), Point3(0, 0, 0)), pose_noise)\n",
    "graph.push_back(factor)"
   ]
  },
  {
   "cell_type": "code",
   "execution_count": 10,
   "metadata": {},
   "outputs": [],
   "source": [
    "# Add a prior on pose of camera 2\n",
    "# 0.3 rad std on roll,pitch,yaw and 0.1m on x,y,z\n",
    "pose_noise = gtsam.noiseModel_Diagonal.Sigmas(np.array([0.3, 0.3, 0.3, 0.1, 0.1, 0.1]))\n",
    "factor = PriorFactorPose3(symbol('x', 1), Pose3(Rot3(r), Point3(t[0], t[1], t[2])), pose_noise)\n",
    "graph.push_back(factor)"
   ]
  },
  {
   "cell_type": "code",
   "execution_count": 11,
   "metadata": {},
   "outputs": [],
   "source": [
    "# point_noise = gtsam.noiseModel_Isotropic.Sigma(3, 0.1)\n",
    "# factor = PriorFactorPoint3(symbol('l', 0), Point3(1,0,0), point_noise)\n",
    "# graph.push_back(factor)"
   ]
  },
  {
   "cell_type": "code",
   "execution_count": 12,
   "metadata": {},
   "outputs": [],
   "source": [
    "graph.print_('Factor Graph:\\n')"
   ]
  },
  {
   "cell_type": "code",
   "execution_count": 13,
   "metadata": {},
   "outputs": [],
   "source": [
    "# Create the data structure to hold the initial estimate to the solution\n",
    "initial_estimate = Values()\n",
    "\n",
    "r_init = Rot3.Rodrigues(0, 0, 0)\n",
    "t_init = Point3(0, 0, 0)\n",
    "transformed_pose = Pose3(r_init, t_init)\n",
    "initial_estimate.insert(symbol('x', 0), transformed_pose)\n",
    "\n",
    "r_init = Rot3(r)\n",
    "t_init = Point3(t[0], t[1], t[2])\n",
    "transformed_pose = Pose3(r_init, t_init)\n",
    "initial_estimate.insert(symbol('x', 1), transformed_pose)\n",
    "\n",
    "for j, point in enumerate(points_1):\n",
    "  initial_estimate.insert(symbol('l', j), Point3(0.05*point[0]/640, 0.05*point[1]/640,0.05))\n",
    "  \n",
    "\n",
    "initial_estimate.print_('Initial Estimates:\\n')"
   ]
  },
  {
   "cell_type": "code",
   "execution_count": 14,
   "metadata": {},
   "outputs": [
    {
     "name": "stdout",
     "output_type": "stream",
     "text": [
      "Optimizing:\n"
     ]
    }
   ],
   "source": [
    "# Optimize the graph and print results\n",
    "params = gtsam.DoglegParams()\n",
    "params.setVerbosity('VALUES')\n",
    "optimizer = DoglegOptimizer(graph, initial_estimate, params)\n",
    "print('Optimizing:')"
   ]
  },
  {
   "cell_type": "code",
   "execution_count": 15,
   "metadata": {},
   "outputs": [
    {
     "name": "stdout",
     "output_type": "stream",
     "text": [
      "initial error = 48836395.56021277\n",
      "final error = 5.3863958532626866\n"
     ]
    }
   ],
   "source": [
    "result = optimizer.optimize()\n",
    "result.print_('Final results:\\n')\n",
    "print('initial error = {}'.format(graph.error(initial_estimate)))\n",
    "print('final error = {}'.format(graph.error(result)))"
   ]
  },
  {
   "cell_type": "code",
   "execution_count": null,
   "metadata": {},
   "outputs": [],
   "source": []
  },
  {
   "cell_type": "code",
   "execution_count": null,
   "metadata": {},
   "outputs": [],
   "source": []
  },
  {
   "cell_type": "code",
   "execution_count": null,
   "metadata": {},
   "outputs": [],
   "source": []
  }
 ],
 "metadata": {
  "kernelspec": {
   "display_name": "Python 3",
   "language": "python",
   "name": "python3"
  },
  "language_info": {
   "codemirror_mode": {
    "name": "ipython",
    "version": 3
   },
   "file_extension": ".py",
   "mimetype": "text/x-python",
   "name": "python",
   "nbconvert_exporter": "python",
   "pygments_lexer": "ipython3",
   "version": "3.7.4"
  },
  "latex_envs": {
   "LaTeX_envs_menu_present": true,
   "autoclose": false,
   "autocomplete": true,
   "bibliofile": "biblio.bib",
   "cite_by": "apalike",
   "current_citInitial": 1,
   "eqLabelWithNumbers": true,
   "eqNumInitial": 1,
   "hotkeys": {
    "equation": "Ctrl-E",
    "itemize": "Ctrl-I"
   },
   "labels_anchors": false,
   "latex_user_defs": false,
   "report_style_numbering": false,
   "user_envs_cfg": false
  },
  "toc": {
   "base_numbering": 1,
   "nav_menu": {},
   "number_sections": true,
   "sideBar": true,
   "skip_h1_title": false,
   "title_cell": "Table of Contents",
   "title_sidebar": "Contents",
   "toc_cell": false,
   "toc_position": {},
   "toc_section_display": true,
   "toc_window_display": false
  }
 },
 "nbformat": 4,
 "nbformat_minor": 2
}
