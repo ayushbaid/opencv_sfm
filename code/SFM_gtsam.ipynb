{
 "cells": [
  {
   "cell_type": "code",
   "execution_count": 1,
   "metadata": {},
   "outputs": [],
   "source": [
    "import gtsam\n",
    "import numpy as np\n",
    "from gtsam.gtsam import (Cal3_S2, DoglegOptimizer,\n",
    "                         GenericProjectionFactorCal3_S2, NonlinearFactorGraph,\n",
    "                         Point3, Pose3, Point2, PriorFactorPoint3, PriorFactorPose3,\n",
    "                         Rot3, SimpleCamera, Values)\n",
    "\n",
    "from utils import get_matches_and_e, load_image"
   ]
  },
  {
   "cell_type": "code",
   "execution_count": 2,
   "metadata": {},
   "outputs": [],
   "source": [
    "def symbol(name: str, index: int) -> int:\n",
    "    \"\"\" helper for creating a symbol without explicitly casting 'name' from str to int \"\"\"\n",
    "    return gtsam.symbol(ord(name), index)"
   ]
  },
  {
   "cell_type": "code",
   "execution_count": 3,
   "metadata": {},
   "outputs": [],
   "source": [
    "def get_camera_calibration(fx, fy, s, cx, cy):\n",
    "  return Cal3_S2(fx, fy, s, cx, cy)"
   ]
  },
  {
   "cell_type": "code",
   "execution_count": 4,
   "metadata": {},
   "outputs": [],
   "source": [
    "# Define the camera observation noise model\n",
    "measurement_noise = gtsam.noiseModel_Isotropic.Sigma(2, 1.0)  # one pixel in u and v"
   ]
  },
  {
   "cell_type": "code",
   "execution_count": 5,
   "metadata": {},
   "outputs": [],
   "source": [
    "# Create a factor graph\n",
    "graph = NonlinearFactorGraph()\n",
    "K = get_camera_calibration(614, 614, 0, 220, 385)"
   ]
  },
  {
   "cell_type": "code",
   "execution_count": 6,
   "metadata": {},
   "outputs": [
    {
     "name": "stdout",
     "output_type": "stream",
     "text": [
      "selected points with ratio:  10\n"
     ]
    }
   ],
   "source": [
    "img1 = load_image('img6.jpg', path='../data/lettuce_home/set4/')\n",
    "img2 = load_image('img8.jpg', path='../data/lettuce_home/set4/')\n",
    "points_1, points_2, e_estimate, r, t = get_matches_and_e(img1, img2)"
   ]
  },
  {
   "cell_type": "code",
   "execution_count": 7,
   "metadata": {},
   "outputs": [],
   "source": [
    "# add all the image points to the factor graph\n",
    "\n",
    "for (i, point) in enumerate(points_1):\n",
    "  # wrap the point in a measurement\n",
    "  #print('adding point for camera1')\n",
    "  factor = GenericProjectionFactorCal3_S2(\n",
    "            Point2(point), measurement_noise, symbol('x', 0), symbol('l', i), K)\n",
    "  graph.push_back(factor)\n",
    "  \n",
    "for (i, point) in enumerate(points_2):\n",
    "  #print('adding point for camera2')\n",
    "  factor = GenericProjectionFactorCal3_S2(\n",
    "            Point2(point), measurement_noise, symbol('x', 1), symbol('l', i), K)\n",
    "  graph.push_back(factor)"
   ]
  },
  {
   "cell_type": "code",
   "execution_count": 8,
   "metadata": {},
   "outputs": [],
   "source": [
    "# Add a prior on pose of camera 1.\n",
    "# 0.3 rad std on roll,pitch,yaw and 0.1m on x,y,z\n",
    "pose_noise = gtsam.noiseModel_Diagonal.Sigmas(np.array([0.3, 0.3, 0.3, 0.1, 0.1, 0.1]))\n",
    "factor = PriorFactorPose3(symbol('x', 0), Pose3(Rot3.Rodrigues(0, 0, 0), Point3(0, 0, 0)), pose_noise)\n",
    "graph.push_back(factor)"
   ]
  },
  {
   "cell_type": "code",
   "execution_count": 9,
   "metadata": {},
   "outputs": [],
   "source": [
    "point_noise = gtsam.noiseModel_Isotropic.Sigma(3, 0.1)\n",
    "factor = PriorFactorPoint3(symbol('l', 0), Point3(1,0,0), point_noise)\n",
    "graph.push_back(factor)\n",
    "graph.print_('Factor Graph:\\n')"
   ]
  },
  {
   "cell_type": "code",
   "execution_count": 14,
   "metadata": {},
   "outputs": [],
   "source": [
    "# Create the data structure to hold the initial estimate to the solution\n",
    "initial_estimate = Values()\n",
    "\n",
    "r_init = Rot3.Rodrigues(0, 0, 0)\n",
    "t_init = Point3(0, 0, 0)\n",
    "transformed_pose = Pose3(r_init, t_init)\n",
    "initial_estimate.insert(symbol('x', 0), transformed_pose)\n",
    "\n",
    "r_init = Rot3(r[0])\n",
    "t_init = Point3(t[0], t[1], t[2])\n",
    "transformed_pose = Pose3(r_init, t_init)\n",
    "initial_estimate.insert(symbol('x', 1), transformed_pose)\n",
    "\n",
    "for j in range(points_1.shape[0]):\n",
    "  initial_estimate.insert(symbol('l', j), Point3(np.random.rand(3)*100))\n",
    "initial_estimate.print_('Initial Estimates:\\n')\n"
   ]
  },
  {
   "cell_type": "code",
   "execution_count": 12,
   "metadata": {},
   "outputs": [
    {
     "name": "stdout",
     "output_type": "stream",
     "text": [
      "Optimizing:\n"
     ]
    }
   ],
   "source": [
    "# Optimize the graph and print results\n",
    "params = gtsam.DoglegParams()\n",
    "params.setVerbosity('TERMINATION')\n",
    "optimizer = DoglegOptimizer(graph, initial_estimate, params)\n",
    "print('Optimizing:')"
   ]
  },
  {
   "cell_type": "code",
   "execution_count": 15,
   "metadata": {},
   "outputs": [
    {
     "ename": "RuntimeError",
     "evalue": "\nIndeterminant linear system detected while working near variable\n7782220156096217132 (Symbol: l44).\n\nThrown when a linear system is ill-posed.  The most common cause for this\nerror is having underconstrained variables.  Mathematically, the system is\nunderdetermined.  See the GTSAM Doxygen documentation at\nhttp://borg.cc.gatech.edu/ on gtsam::IndeterminantLinearSystemException for\nmore information.",
     "output_type": "error",
     "traceback": [
      "\u001b[0;31m---------------------------------------------------------------------------\u001b[0m",
      "\u001b[0;31mRuntimeError\u001b[0m                              Traceback (most recent call last)",
      "\u001b[0;32m<ipython-input-15-e6ef4e428de7>\u001b[0m in \u001b[0;36m<module>\u001b[0;34m\u001b[0m\n\u001b[0;32m----> 1\u001b[0;31m \u001b[0mresult\u001b[0m \u001b[0;34m=\u001b[0m \u001b[0moptimizer\u001b[0m\u001b[0;34m.\u001b[0m\u001b[0moptimize\u001b[0m\u001b[0;34m(\u001b[0m\u001b[0;34m)\u001b[0m\u001b[0;34m\u001b[0m\u001b[0;34m\u001b[0m\u001b[0m\n\u001b[0m\u001b[1;32m      2\u001b[0m \u001b[0mresult\u001b[0m\u001b[0;34m.\u001b[0m\u001b[0mprint_\u001b[0m\u001b[0;34m(\u001b[0m\u001b[0;34m'Final results:\\n'\u001b[0m\u001b[0;34m)\u001b[0m\u001b[0;34m\u001b[0m\u001b[0;34m\u001b[0m\u001b[0m\n\u001b[1;32m      3\u001b[0m \u001b[0mprint\u001b[0m\u001b[0;34m(\u001b[0m\u001b[0;34m'initial error = {}'\u001b[0m\u001b[0;34m.\u001b[0m\u001b[0mformat\u001b[0m\u001b[0;34m(\u001b[0m\u001b[0mgraph\u001b[0m\u001b[0;34m.\u001b[0m\u001b[0merror\u001b[0m\u001b[0;34m(\u001b[0m\u001b[0minitial_estimate\u001b[0m\u001b[0;34m)\u001b[0m\u001b[0;34m)\u001b[0m\u001b[0;34m)\u001b[0m\u001b[0;34m\u001b[0m\u001b[0;34m\u001b[0m\u001b[0m\n\u001b[1;32m      4\u001b[0m \u001b[0mprint\u001b[0m\u001b[0;34m(\u001b[0m\u001b[0;34m'final error = {}'\u001b[0m\u001b[0;34m.\u001b[0m\u001b[0mformat\u001b[0m\u001b[0;34m(\u001b[0m\u001b[0mgraph\u001b[0m\u001b[0;34m.\u001b[0m\u001b[0merror\u001b[0m\u001b[0;34m(\u001b[0m\u001b[0mresult\u001b[0m\u001b[0;34m)\u001b[0m\u001b[0;34m)\u001b[0m\u001b[0;34m)\u001b[0m\u001b[0;34m\u001b[0m\u001b[0;34m\u001b[0m\u001b[0m\n",
      "\u001b[0;32mgtsam/gtsam.pyx\u001b[0m in \u001b[0;36mgtsam.gtsam.DoglegOptimizer.optimize\u001b[0;34m()\u001b[0m\n",
      "\u001b[0;31mRuntimeError\u001b[0m: \nIndeterminant linear system detected while working near variable\n7782220156096217132 (Symbol: l44).\n\nThrown when a linear system is ill-posed.  The most common cause for this\nerror is having underconstrained variables.  Mathematically, the system is\nunderdetermined.  See the GTSAM Doxygen documentation at\nhttp://borg.cc.gatech.edu/ on gtsam::IndeterminantLinearSystemException for\nmore information."
     ]
    }
   ],
   "source": [
    "result = optimizer.optimize()\n",
    "result.print_('Final results:\\n')\n",
    "print('initial error = {}'.format(graph.error(initial_estimate)))\n",
    "print('final error = {}'.format(graph.error(result)))"
   ]
  }
 ],
 "metadata": {
  "kernelspec": {
   "display_name": "Python 3",
   "language": "python",
   "name": "python3"
  },
  "language_info": {
   "codemirror_mode": {
    "name": "ipython",
    "version": 3
   },
   "file_extension": ".py",
   "mimetype": "text/x-python",
   "name": "python",
   "nbconvert_exporter": "python",
   "pygments_lexer": "ipython3",
   "version": "3.7.4"
  },
  "latex_envs": {
   "LaTeX_envs_menu_present": true,
   "autoclose": false,
   "autocomplete": true,
   "bibliofile": "biblio.bib",
   "cite_by": "apalike",
   "current_citInitial": 1,
   "eqLabelWithNumbers": true,
   "eqNumInitial": 1,
   "hotkeys": {
    "equation": "Ctrl-E",
    "itemize": "Ctrl-I"
   },
   "labels_anchors": false,
   "latex_user_defs": false,
   "report_style_numbering": false,
   "user_envs_cfg": false
  },
  "toc": {
   "base_numbering": 1,
   "nav_menu": {},
   "number_sections": true,
   "sideBar": true,
   "skip_h1_title": false,
   "title_cell": "Table of Contents",
   "title_sidebar": "Contents",
   "toc_cell": false,
   "toc_position": {},
   "toc_section_display": true,
   "toc_window_display": false
  }
 },
 "nbformat": 4,
 "nbformat_minor": 2
}
