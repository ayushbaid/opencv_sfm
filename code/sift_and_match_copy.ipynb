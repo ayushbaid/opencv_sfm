{
 "cells": [
  {
   "cell_type": "code",
   "execution_count": 1,
   "metadata": {},
   "outputs": [],
   "source": [
    "import numpy as np\n",
    "import cv2\n",
    "import matplotlib.pyplot as plt\n",
    "\n",
    "from sklearn.neighbors import NearestNeighbors"
   ]
  },
  {
   "cell_type": "code",
   "execution_count": 12,
   "metadata": {},
   "outputs": [],
   "source": [
    "# resize the image\n",
    "def down_to_10(img_name, img_path = '../data/lettuce_home/', result_path = '../data/lettuce_home/resized/'):\n",
    "    img = cv2.imread(img_path + img_name)\n",
    "    scale_percent = 10 # percent of original size\n",
    "    width = int(img.shape[1] * scale_percent / 100)\n",
    "    height = int(img.shape[0] * scale_percent / 100)\n",
    "    dim = (width, height)\n",
    "    # resize image\n",
    "    resized = cv2.resize(img, dim, interpolation = cv2.INTER_AREA)\n",
    "    \n",
    "    cv2.imwrite(result_path + img_name, resized)"
   ]
  },
  {
   "cell_type": "code",
   "execution_count": 2,
   "metadata": {},
   "outputs": [],
   "source": [
    "def gen_plant_mask(inp_img):\n",
    "  # generate a mask to figure out the plant region from an RGB image\n",
    "  \n",
    "  # green value greater than 30 in number\n",
    "  # and greater than 2R and 2B\n",
    "  \n",
    "  hsv_img = cv2.cvtColor(inp_img,cv2.COLOR_BGR2HSV)\n",
    "  mask = cv2.inRange(hsv_img, (36, 25, 25), (70, 255,255))\n",
    "  #mask = np.logical_and(np.logical_and(np.greater(inp_img[:,:,1], green_val_threshold), \n",
    "  #                                     inp_img[:,:,1] >= green_mult_threshold*inp_img[:,:,0]\n",
    "  #                                    ), \n",
    "  #                      inp_img[:,:,1] >= green_mult_threshold*inp_img[:,:,2])\n",
    "  \n",
    "  # open the mask\n",
    "  #mask = cv2.morphologyEx(mask, cv2.MORPH_ERODE, cv2.getStructuringElement(cv2.MORPH_RECT,(5,5)))\n",
    "  mask = cv2.morphologyEx(mask, cv2.MORPH_OPEN, cv2.getStructuringElement(cv2.MORPH_RECT,(5,5)))\n",
    "  mask = cv2.morphologyEx(mask, cv2.MORPH_CLOSE, cv2.getStructuringElement(cv2.MORPH_RECT,(15,15)))\n",
    "  \n",
    "  bool_mask = mask>0\n",
    "  \n",
    "  int_mask = np.zeros_like(mask, dtype=np.uint8)\n",
    "  int_mask[bool_mask] = 255\n",
    "  return int_mask\n",
    "            "
   ]
  },
  {
   "cell_type": "code",
   "execution_count": 3,
   "metadata": {},
   "outputs": [
    {
     "data": {
      "image/png": "[encoded data removed]",
      "text/plain": [
       "<Figure size 432x288 with 1 Axes>"
      ]
     },
     "metadata": {
      "needs_background": "light"
     },
     "output_type": "display_data"
    }
   ],
   "source": [
    "img = cv2.imread('../data/lettuce_home/img1.jpg')\n",
    "mask = gen_plant_mask(img)\n",
    "\n",
    "plt.imshow(mask)\n",
    "plt.show()"
   ]
  },
  {
   "cell_type": "code",
   "execution_count": null,
   "metadata": {},
   "outputs": [],
   "source": [
    "fig = plt.figure()\n",
    "fig.add_subplot(2,2,1)\n",
    "plt.imshow(img)\n",
    "fig.add_subplot(2,2,2)\n",
    "plt.imshow(img[:,:,0])\n",
    "fig.add_subplot(2,2,3)\n",
    "plt.imshow(img[:,:,1])\n",
    "fig.add_subplot(2,2,4)\n",
    "plt.imshow(img[:,:,2])\n",
    "plt.show()\n"
   ]
  },
  {
   "cell_type": "code",
   "execution_count": 7,
   "metadata": {},
   "outputs": [
    {
     "data": {
      "text/plain": [
       "True"
      ]
     },
     "execution_count": 7,
     "metadata": {},
     "output_type": "execute_result"
    }
   ],
   "source": [
    "img = cv2.imread('../data/lettuce_home/img1.jpg')\n",
    "gray= cv2.cvtColor(img,cv2.COLOR_BGR2GRAY)\n",
    "sift = cv2.xfeatures2d.SIFT_create()\n",
    "kp, des = sift.detectAndCompute(gray, gen_plant_mask(img))\n",
    "img=cv2.drawKeypoints(gray,kp,img)\n",
    "cv2.imwrite('../result/lettuce_home/sift/img1.jpg',img)"
   ]
  },
  {
   "cell_type": "code",
   "execution_count": 40,
   "metadata": {},
   "outputs": [],
   "source": [
    "def get_neighbor_description(keypoints, descriptors, nWeight = 0.1):\n",
    "  # extract point coordinates from keypoints\n",
    "  coordinates = np.array([(x.pt) for x in keypoints], dtype=np.float32)\n",
    "  \n",
    "  # find 5 nearest neighbors\n",
    "  nbrs = NearestNeighbors(n_neighbors=2).fit(coordinates)\n",
    "  \n",
    "  # get the distances and the indices of neighbors for each coordinate\n",
    "  distances, indices = nbrs.kneighbors(coordinates)\n",
    "  \n",
    "  # drop the self-match\n",
    "  distances_ = distances[:,1:]\n",
    "  indices_ = indices[:,1:]\n",
    "  \n",
    "  # calculate the avg of the neighborhood descriptors\n",
    "  avg_neighbor_des = np.average(descriptors[indices_,:], axis=1)\n",
    "  \n",
    "  # create a new descriptor by weighting\n",
    "  #new_descriptors = (1-nWeight)*descriptors + nWeight * avg_neighbor_des\n",
    "  \n",
    "  # concat instead of averaging\n",
    "  #print(descriptors.shape)\n",
    "  new_descriptors = np.concatenate((descriptors, avg_neighbor_des*nWeight), axis=1)\n",
    "  #print(new_descriptors.shape)\n",
    "  \n",
    "  return new_descriptors"
   ]
  },
  {
   "cell_type": "code",
   "execution_count": 22,
   "metadata": {},
   "outputs": [
    {
     "name": "stdout",
     "output_type": "stream",
     "text": [
      "[[ 33.321545 286.7258  ]\n",
      " [ 46.296677 277.5986  ]\n",
      " [ 46.68601  299.5748  ]\n",
      " ...\n",
      " [242.03563  218.43362 ]\n",
      " [242.92778  201.85857 ]\n",
      " [242.92778  201.85857 ]]\n"
     ]
    }
   ],
   "source": [
    "\n",
    "print(keypoint_loc)"
   ]
  },
  {
   "cell_type": "code",
   "execution_count": 30,
   "metadata": {},
   "outputs": [],
   "source": []
  },
  {
   "cell_type": "code",
   "execution_count": 31,
   "metadata": {},
   "outputs": [],
   "source": [
    "distances, indices = nbrs.kneighbors(keypoint_loc)"
   ]
  },
  {
   "cell_type": "code",
   "execution_count": 51,
   "metadata": {},
   "outputs": [
    {
     "name": "stdout",
     "output_type": "stream",
     "text": [
      "(677, 5)\n",
      "676\n"
     ]
    }
   ],
   "source": [
    "print(distances.shape)\n",
    "print(np.min(indices))"
   ]
  },
  {
   "cell_type": "code",
   "execution_count": 37,
   "metadata": {},
   "outputs": [],
   "source": []
  },
  {
   "cell_type": "code",
   "execution_count": 41,
   "metadata": {},
   "outputs": [
    {
     "name": "stdout",
     "output_type": "stream",
     "text": [
      "(677, 4, 128)\n",
      "(677, 128)\n"
     ]
    }
   ],
   "source": [
    "des_exploded = des[indices_, :]\n",
    "print(des_exploded.shape)\n",
    "\n",
    "avg_neighbor_des = np.average(des_exploded, axis=1)\n",
    "print(avg_neighbor_des.shape)"
   ]
  },
  {
   "cell_type": "code",
   "execution_count": 42,
   "metadata": {},
   "outputs": [],
   "source": [
    "def match_sift(img1, img2):\n",
    "  # Initiate SIFT detector\n",
    "  sift = cv2.xfeatures2d.SIFT_create()\n",
    "  gray_im1 = cv2.cvtColor(img1, cv2.COLOR_BGR2GRAY)\n",
    "  gray_im2 = cv2.cvtColor(img2, cv2.COLOR_BGR2GRAY)\n",
    "  # find the keypoints and descriptors with SIFT\n",
    "  kp1, des1 = sift.detectAndCompute(gray_im1, mask = gen_plant_mask(img1))\n",
    "  kp2, des2 = sift.detectAndCompute(gray_im2, mask = gen_plant_mask(img2))\n",
    "  \n",
    "  des1 = get_neighbor_description(kp1, des1, nWeight=0.25)\n",
    "  des2 = get_neighbor_description(kp2, des2, nWeight=0.25)\n",
    "  \n",
    "  # FLANN parameters\n",
    "  FLANN_INDEX_KDTREE = 1\n",
    "  index_params = dict(algorithm = FLANN_INDEX_KDTREE, trees = 5)\n",
    "  search_params = dict(checks=50)   # or pass empty dictionary\n",
    "  \n",
    "  flann = cv2.FlannBasedMatcher(index_params,search_params)\n",
    "  matches = flann.knnMatch(des1,des2,k=2)\n",
    "  \n",
    "  # Need to draw only good matches, so create a mask\n",
    "  matchesMask = [[0,0] for i in range(len(matches))]\n",
    "  # ratio test as per Lowe's paper\n",
    "  for i,(m,n) in enumerate(matches):\n",
    "    if m.distance < 0.7*n.distance:#0.7\n",
    "      matchesMask[i]=[1,0]\n",
    "      \n",
    "  draw_params = dict(matchColor = (0,255,0),\n",
    "                     singlePointColor = (255,0,0),\n",
    "                     matchesMask = matchesMask,\n",
    "                     flags = cv2.DrawMatchesFlags_DEFAULT)\n",
    "  \n",
    "  \n",
    "  # cv.drawMatchesKnn expects list of lists as matches.\n",
    "  img3 = cv2.drawMatchesKnn(gray_im1,kp1,gray_im2,kp2,matches,None,**draw_params)\n",
    "  \n",
    "  return img3"
   ]
  },
  {
   "cell_type": "code",
   "execution_count": 17,
   "metadata": {},
   "outputs": [],
   "source": [
    "def load_image(imName, path = '../data/lettuce_home/'):\n",
    "    img = cv2.imread(path + imName)\n",
    "    \n",
    "    return img"
   ]
  },
  {
   "cell_type": "code",
   "execution_count": 43,
   "metadata": {},
   "outputs": [],
   "source": [
    "num_images = 6\n",
    "\n",
    "for i in range(1, num_images+1):\n",
    "  for j in range(i+1, num_images+1):\n",
    "      im1 = load_image('img{}.jpg'.format(i))\n",
    "      im2 = load_image('img{}.jpg'.format(j))\n",
    "      \n",
    "      match_im = match_sift(im1, im2)\n",
    "      \n",
    "      cv2.imwrite('../result/lettuce_home/sift_matching_custom/{}_{}.jpg'.format(i,j), match_im)\n",
    "\n",
    "      #plt.imshow(match_2_3),plt.show()"
   ]
  }
 ],
 "metadata": {
  "kernelspec": {
   "display_name": "Python 3",
   "language": "python",
   "name": "python3"
  },
  "language_info": {
   "codemirror_mode": {
    "name": "ipython",
    "version": 3
   },
   "file_extension": ".py",
   "mimetype": "text/x-python",
   "name": "python",
   "nbconvert_exporter": "python",
   "pygments_lexer": "ipython3",
   "version": "3.7.3"
  },
  "latex_envs": {
   "LaTeX_envs_menu_present": true,
   "autoclose": false,
   "autocomplete": true,
   "bibliofile": "biblio.bib",
   "cite_by": "apalike",
   "current_citInitial": 1,
   "eqLabelWithNumbers": true,
   "eqNumInitial": 1,
   "hotkeys": {
    "equation": "Ctrl-E",
    "itemize": "Ctrl-I"
   },
   "labels_anchors": false,
   "latex_user_defs": false,
   "report_style_numbering": false,
   "user_envs_cfg": false
  },
  "toc": {
   "base_numbering": 1,
   "nav_menu": {},
   "number_sections": true,
   "sideBar": true,
   "skip_h1_title": false,
   "title_cell": "Table of Contents",
   "title_sidebar": "Contents",
   "toc_cell": false,
   "toc_position": {},
   "toc_section_display": true,
   "toc_window_display": false
  }
 },
 "nbformat": 4,
 "nbformat_minor": 2
}
