{
 "cells": [
  {
   "cell_type": "code",
   "execution_count": 1,
   "metadata": {},
   "outputs": [],
   "source": [
    "import numpy as np\n",
    "import cv2\n",
    "import matplotlib.pyplot as plt\n",
    "from utils import *\n",
    "import traceback\n",
    "import sys"
   ]
  },
  {
   "cell_type": "code",
   "execution_count": 2,
   "metadata": {},
   "outputs": [
    {
     "name": "stdout",
     "output_type": "stream",
     "text": [
      "selected points with ratio:  4\n",
      "E estimation failed\n",
      "selected points with ratio:  6\n",
      "total input to new:\n",
      "677\n",
      "Extra matching val\n",
      "16\n",
      "selected points with ratio:  1\n",
      "E estimation failed\n",
      "selected points with ratio:  5\n",
      "total input to new:\n",
      "677\n",
      "Extra matching val\n",
      "6\n",
      "selected points with ratio:  0\n",
      "Traceback (most recent call last):\n",
      "  File \"<ipython-input-2-e16cc3f513ec>\", line 10, in <module>\n",
      "    match_im1, match_im2, match_im3 = match_sift_double_iter(im1, im2)\n",
      "  File \"/home/ayush/dev/4d_crops/opencv_sfm/code/utils.py\", line 106, in match_sift_double_iter\n",
      "    pts1, pts2, camera_matrix)\n",
      "cv2.error: OpenCV(3.4.2) /io/opencv/modules/calib3d/src/five-point.cpp:417: error: (-215:Assertion failed) npoints >= 0 && points2.checkVector(2) == npoints && points1.type() == points2.type() in function 'findEssentialMat'\n",
      "\n",
      "selected points with ratio:  5\n",
      "total input to new:\n",
      "578\n",
      "Extra matching val\n",
      "9\n",
      "selected points with ratio:  1\n",
      "E estimation failed\n",
      "selected points with ratio:  2\n",
      "E estimation failed\n",
      "selected points with ratio:  3\n",
      "E estimation failed\n",
      "selected points with ratio:  4\n",
      "E estimation failed\n",
      "selected points with ratio:  1\n",
      "E estimation failed\n",
      "selected points with ratio:  5\n",
      "total input to new:\n",
      "493\n",
      "Extra matching val\n",
      "32\n",
      "selected points with ratio:  3\n",
      "E estimation failed\n",
      "selected points with ratio:  9\n",
      "total input to new:\n",
      "451\n",
      "Extra matching val\n",
      "32\n",
      "selected points with ratio:  9\n",
      "total input to new:\n",
      "429\n",
      "Extra matching val\n",
      "9\n"
     ]
    }
   ],
   "source": [
    "num_images = 6\n",
    "\n",
    "for i in range(1, num_images+1):\n",
    "  for j in range(i+1, num_images+1):\n",
    "\n",
    "    im1 = load_image('img{}.jpg'.format(i), path = '../data/lettuce_home/set1/')\n",
    "    im2 = load_image('img{}.jpg'.format(j), path = '../data/lettuce_home/set1/')\n",
    "      \n",
    "    try:\n",
    "      match_im1, match_im2, match_im3 = match_sift_double_iter(im1, im2)\n",
    "      if match_im1 is None:\n",
    "        continue\n",
    "      \n",
    "      concat_image = np.concatenate((match_im1, match_im2, match_im3), axis=0)\n",
    "      \n",
    "      cv2.imwrite('../result/lettuce_home/sift_matching/set1/{}_{}.jpg'.format(i,j), concat_image)\n",
    "\n",
    "      #plt.imshow(match_2_3),plt.show()\n",
    "    except:\n",
    "      traceback.print_exc(file=sys.stdout)\n",
    "    "
   ]
  }
 ],
 "metadata": {
  "kernelspec": {
   "display_name": "Python 3",
   "language": "python",
   "name": "python3"
  },
  "language_info": {
   "codemirror_mode": {
    "name": "ipython",
    "version": 3
   },
   "file_extension": ".py",
   "mimetype": "text/x-python",
   "name": "python",
   "nbconvert_exporter": "python",
   "pygments_lexer": "ipython3",
   "version": "3.7.3"
  },
  "latex_envs": {
   "LaTeX_envs_menu_present": true,
   "autoclose": false,
   "autocomplete": true,
   "bibliofile": "biblio.bib",
   "cite_by": "apalike",
   "current_citInitial": 1,
   "eqLabelWithNumbers": true,
   "eqNumInitial": 1,
   "hotkeys": {
    "equation": "Ctrl-E",
    "itemize": "Ctrl-I"
   },
   "labels_anchors": false,
   "latex_user_defs": false,
   "report_style_numbering": false,
   "user_envs_cfg": false
  },
  "toc": {
   "base_numbering": 1,
   "nav_menu": {},
   "number_sections": true,
   "sideBar": true,
   "skip_h1_title": false,
   "title_cell": "Table of Contents",
   "title_sidebar": "Contents",
   "toc_cell": false,
   "toc_position": {},
   "toc_section_display": true,
   "toc_window_display": false
  }
 },
 "nbformat": 4,
 "nbformat_minor": 2
}
